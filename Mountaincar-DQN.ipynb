{
 "cells": [
  {
   "cell_type": "code",
   "execution_count": 1,
   "metadata": {},
   "outputs": [],
   "source": [
    "import gymnasium as gym\n",
    "import matplotlib.pyplot as plt\n",
    "from collections import namedtuple, deque\n",
    "from itertools import count\n",
    "import torch\n",
    "from DQN_model import DQNAgent\n"
   ]
  },
  {
   "cell_type": "code",
   "execution_count": 2,
   "metadata": {},
   "outputs": [],
   "source": [
    "parameters = {}\n",
    "parameters['net_type'] = 'DQN_C'\n",
    "parameters['hidden_dim'] = 64\n",
    "parameters['device'] = torch.device(\"cuda\" if torch.cuda.is_available() else \"cpu\")\n",
    "parameters['buffer_type'] = 'ReplayBuffer'\n",
    "parameters['ALPHA'] = 0.5\n",
    "parameters['LR'] = 1e-4\n",
    "parameters['BATCH_SIZE'] = 64\n",
    "parameters['GAMMA'] = 0.99\n",
    "parameters['EPS_START'] = 0.9\n",
    "parameters['EPS_END'] = 0.05\n",
    "parameters['EPS_DECAY'] = 1000\n",
    "parameters['TAU'] = 0.005\n",
    "parameters['BETA'] = 0.4\n",
    "parameters['game_type'] = 'MountainCar-v0'\n",
    "parameters['num_episodes'] = 1500"
   ]
  },
  {
   "cell_type": "code",
   "execution_count": 3,
   "metadata": {},
   "outputs": [],
   "source": [
    "agent = DQNAgent(parameters)"
   ]
  },
  {
   "cell_type": "code",
   "execution_count": 4,
   "metadata": {},
   "outputs": [
    {
     "data": {
      "text/plain": [
       "<Figure size 640x480 with 0 Axes>"
      ]
     },
     "metadata": {},
     "output_type": "display_data"
    }
   ],
   "source": [
    "agent.train()\n",
    "# agent.show_curve()\n",
    "csv_file = './curve.csv'\n",
    "agent.save_curve(csv_file)"
   ]
  },
  {
   "cell_type": "markdown",
   "metadata": {},
   "source": [
    "策略演示"
   ]
  },
  {
   "cell_type": "code",
   "execution_count": 5,
   "metadata": {},
   "outputs": [],
   "source": [
    "# load_model_name = \"./checkpoint/MC_DQNc_d64_0.5_0.4_89_e488.pkl\"\n",
    "# agent.render_result(load_model_name)"
   ]
  }
 ],
 "metadata": {
  "kernelspec": {
   "display_name": "rl-torch",
   "language": "python",
   "name": "python3"
  },
  "language_info": {
   "codemirror_mode": {
    "name": "ipython",
    "version": 3
   },
   "file_extension": ".py",
   "mimetype": "text/x-python",
   "name": "python",
   "nbconvert_exporter": "python",
   "pygments_lexer": "ipython3",
   "version": "3.8.17"
  },
  "orig_nbformat": 4
 },
 "nbformat": 4,
 "nbformat_minor": 2
}
